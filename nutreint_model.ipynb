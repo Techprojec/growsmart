{
 "cells": [
  {
   "cell_type": "code",
   "execution_count": 1,
   "id": "9d449701",
   "metadata": {},
   "outputs": [
    {
     "name": "stdout",
     "output_type": "stream",
     "text": [
      "Predicted Nutrient Deficiency: \"Phosphorus\"\n",
      "Percentage: \"50%\"\n"
     ]
    }
   ],
   "source": [
    "from PIL import Image\n",
    "import tensorflow as tf\n",
    "\n",
    "# Load the model\n",
    "model = tf.keras.models.load_model(r'C:\\Users\\ayub_\\Downloads\\Nutrient-Model.h5')\n",
    "\n",
    "# Define the class names\n",
    "class_names = ['Magnesium', 'Nitrogen', 'Potassium', 'Phosphorus', 'Sulfur']\n",
    "\n",
    "# Function to classify the image\n",
    "@tf.function\n",
    "def classify_image(image_path):\n",
    "    # Load and preprocess the image\n",
    "    image = Image.open(image_path).resize((224, 224))\n",
    "    image = tf.keras.preprocessing.image.img_to_array(image)\n",
    "    image = tf.expand_dims(image, axis=0)\n",
    "    image = tf.keras.applications.mobilenet_v2.preprocess_input(image)\n",
    "\n",
    "    # Make the prediction\n",
    "    predictions = model.call(image)\n",
    "    predicted_index = tf.argmax(predictions, axis=1)\n",
    "    predicted_index = tf.squeeze(predicted_index)  # Remove dimensions of size 1\n",
    "    predicted_nutrient = tf.gather(class_names, predicted_index)\n",
    "    predicted_percentage = predictions[0, predicted_index] * 100\n",
    "    \n",
    "    # Round up the percentage and add \"%\" symbol\n",
    "    rounded_percentage = tf.math.ceil(predicted_percentage)\n",
    "    percentage_string = tf.strings.format(\"{}%\", rounded_percentage)\n",
    "\n",
    "    \n",
    "    # Print the predicted nutrient deficiency with percentage\n",
    "    tf.print(\"Predicted Nutrient Deficiency:\", predicted_nutrient)\n",
    "    tf.print(\"Percentage:\", percentage_string)\n",
    "\n",
    "# Example usage\n",
    "image_path = r\"C:\\Users\\ayub_\\OneDrive\\Documents\\test1_img.jpg\"\n",
    "classify_image(image_path)\n"
   ]
  },
  {
   "cell_type": "code",
   "execution_count": null,
   "id": "c8b0bb1a",
   "metadata": {},
   "outputs": [],
   "source": []
  }
 ],
 "metadata": {
  "kernelspec": {
   "display_name": "Python 3 (ipykernel)",
   "language": "python",
   "name": "python3"
  },
  "language_info": {
   "codemirror_mode": {
    "name": "ipython",
    "version": 3
   },
   "file_extension": ".py",
   "mimetype": "text/x-python",
   "name": "python",
   "nbconvert_exporter": "python",
   "pygments_lexer": "ipython3",
   "version": "3.9.12"
  }
 },
 "nbformat": 4,
 "nbformat_minor": 5
}
