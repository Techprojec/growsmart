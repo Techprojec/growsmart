{
 "cells": [
  {
   "cell_type": "code",
   "execution_count": 12,
   "id": "2796b9f0",
   "metadata": {},
   "outputs": [
    {
     "name": "stderr",
     "output_type": "stream",
     "text": [
      "C:\\Users\\ayub_\\anaconda3\\lib\\site-packages\\transformers\\models\\convnext\\feature_extraction_convnext.py:28: FutureWarning: The class ConvNextFeatureExtractor is deprecated and will be removed in version 5 of Transformers. Please use ConvNextImageProcessor instead.\n",
      "  warnings.warn(\n"
     ]
    },
    {
     "name": "stdout",
     "output_type": "stream",
     "text": [
      "Predicted class: 0\n",
      "Predicted disease: Apple___Apple_scab\n",
      "Predicted probability: 0.4529123902320862\n",
      "Predicted solution: Apply fungicides and prune infected branches.\n"
     ]
    }
   ],
   "source": [
    "from transformers import AutoFeatureExtractor, AutoModelForImageClassification\n",
    "import pandas as pd\n",
    "\n",
    "# Load the pre-trained model\n",
    "model_name = \"SanketJadhav/PlantDiseaseClassifier-Resnet50\"\n",
    "extractor = AutoFeatureExtractor.from_pretrained(model_name)\n",
    "model = AutoModelForImageClassification.from_pretrained(model_name)\n",
    "\n",
    "# Assuming you have an image file called \"image.jpg\" that you want to classify\n",
    "image_path = r\"C:\\Users\\ayub_\\OneDrive\\Documents\\test1_img.jpg\"\n",
    "\n",
    "# Assuming num_labels is the number of output classes in your model\n",
    "num_labels = model.config.num_labels\n",
    "\n",
    "# Create a mapping from class index to label\n",
    "class_to_label = {i: f\"Disease {i+1}\" for i in range(num_labels)}\n",
    "\n",
    "\n",
    "\n",
    "from PIL import Image\n",
    "import numpy as np\n",
    "\n",
    "# Load the image using PIL\n",
    "image = Image.open(image_path)\n",
    "\n",
    "# Convert the image to a numpy array\n",
    "image_array = np.array(image)\n",
    "\n",
    "# Use the extractor to preprocess the image array\n",
    "inputs = extractor(images=image_array, return_tensors=\"pt\")\n",
    "\n",
    "# Pass the preprocessed inputs through the model\n",
    "outputs = model(**inputs)\n",
    "\n",
    "# Get the predicted class and probability\n",
    "predicted_class = outputs.logits.argmax().item()\n",
    "predicted_probability = outputs.logits.softmax(dim=1)[0, predicted_class].item()\n",
    "\n",
    "# Create a mapping from class index to label\n",
    "class_to_label = {i: model.config.id2label[i] for i in range(model.config.num_labels)}\n",
    "\n",
    "# Get the disease label based on the predicted class\n",
    "predicted_disease = class_to_label[predicted_class]\n",
    "\n",
    "# Load the disease solution dataframe\n",
    "disease_solution = pd.read_csv(r\"C:\\Users\\ayub_\\disease_solution.csv\")\n",
    "\n",
    "# Find the corresponding solution for the predicted disease\n",
    "solution_row = disease_solution[disease_solution[\"Disease\"] == predicted_disease]\n",
    "\n",
    "# Get the solution from the dataframe\n",
    "predicted_solution = solution_row[\"Solution\"].values[0]\n",
    "\n",
    "# Print the results\n",
    "print(f\"Predicted class: {predicted_class}\")\n",
    "print(f\"Predicted disease: {predicted_disease}\")\n",
    "print(f\"Predicted probability: {predicted_probability}\")\n",
    "print(f\"Predicted solution: {predicted_solution}\")"
   ]
  },
  {
   "cell_type": "code",
   "execution_count": 2,
   "id": "d4283f95",
   "metadata": {},
   "outputs": [
    {
     "name": "stdout",
     "output_type": "stream",
     "text": [
      " * Serving Flask app \"__main__\" (lazy loading)\n",
      " * Environment: production\n",
      "\u001b[31m   WARNING: This is a development server. Do not use it in a production deployment.\u001b[0m\n",
      "\u001b[2m   Use a production WSGI server instead.\u001b[0m\n",
      " * Debug mode: off\n"
     ]
    },
    {
     "name": "stderr",
     "output_type": "stream",
     "text": [
      " * Running on http://127.0.0.1:5000/ (Press CTRL+C to quit)\n"
     ]
    }
   ],
   "source": [
    "from flask import Flask, request, jsonify\n",
    "from transformers import AutoFeatureExtractor, AutoModelForImageClassification\n",
    "from PIL import Image\n",
    "import numpy as np\n",
    "\n",
    "# Load the pre-trained model\n",
    "model_name = \"SanketJadhav/PlantDiseaseClassifier-Resnet50\"\n",
    "extractor = AutoFeatureExtractor.from_pretrained(model_name)\n",
    "model = AutoModelForImageClassification.from_pretrained(model_name)\n",
    "\n",
    "# Create a mapping from class index to label\n",
    "class_to_label = {i: f\"Disease {i+1}\" for i in range(model.config.num_labels)}\n",
    "\n",
    "app = Flask(__name__)\n",
    "\n",
    "@app.route('/predict', methods=['POST'])\n",
    "def predict():\n",
    "    # Get the image data from the request\n",
    "    image_file = request.files['image']\n",
    "    image = Image.open(image_file)\n",
    "    image_array = np.array(image)\n",
    "\n",
    "    # Preprocess the image\n",
    "    inputs = extractor(images=image_array, return_tensors=\"pt\")\n",
    "    outputs = model(**inputs)\n",
    "\n",
    "    # Get the predicted class and probability\n",
    "    predicted_class = outputs.logits.argmax().item()\n",
    "    predicted_probability = outputs.logits.softmax(dim=1)[0, predicted_class].item()\n",
    "\n",
    "    # Get the disease label based on the predicted class\n",
    "    predicted_disease = class_to_label[predicted_class]\n",
    "\n",
    "    # Return the prediction results as JSON response\n",
    "    response = {\n",
    "        'predicted_class': predicted_class,\n",
    "        'predicted_disease': predicted_disease,\n",
    "        'predicted_probability': predicted_probability\n",
    "    }\n",
    "\n",
    "    return jsonify(response)\n",
    "\n",
    "if __name__ == '__main__':\n",
    "    app.run()\n"
   ]
  },
  {
   "cell_type": "code",
   "execution_count": null,
   "id": "eb2fe92f",
   "metadata": {},
   "outputs": [],
   "source": []
  }
 ],
 "metadata": {
  "kernelspec": {
   "display_name": "Python 3 (ipykernel)",
   "language": "python",
   "name": "python3"
  },
  "language_info": {
   "codemirror_mode": {
    "name": "ipython",
    "version": 3
   },
   "file_extension": ".py",
   "mimetype": "text/x-python",
   "name": "python",
   "nbconvert_exporter": "python",
   "pygments_lexer": "ipython3",
   "version": "3.9.12"
  }
 },
 "nbformat": 4,
 "nbformat_minor": 5
}
